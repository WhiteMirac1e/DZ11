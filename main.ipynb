import pandas as pd

df = pd.read_csv('DZ11/california_housing_train.csv')
df.head(n = 5)

df['median_house_value'][df['population'] < 501].mean()
206799.95140186916

df['households'][df['population'].idxmin()].max()
4.0
